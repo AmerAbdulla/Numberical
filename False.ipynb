{
  "nbformat": 4,
  "nbformat_minor": 0,
  "metadata": {
    "colab": {
      "provenance": [],
      "collapsed_sections": [],
      "authorship_tag": "ABX9TyMV7o2cUsB8xi5w8KlwypDj",
      "include_colab_link": true
    },
    "kernelspec": {
      "name": "python3",
      "display_name": "Python 3"
    },
    "language_info": {
      "name": "python"
    }
  },
  "cells": [
    {
      "cell_type": "markdown",
      "metadata": {
        "id": "view-in-github",
        "colab_type": "text"
      },
      "source": [
        "<a href=\"https://colab.research.google.com/github/AmerAbdulla/Numberical/blob/main/False.ipynb\" target=\"_parent\"><img src=\"https://colab.research.google.com/assets/colab-badge.svg\" alt=\"Open In Colab\"/></a>"
      ]
    },
    {
      "cell_type": "code",
      "execution_count": null,
      "metadata": {
        "id": "3eT2PHXTBUQw"
      },
      "outputs": [],
      "source": [
        "def falsePoint( func , a , b ):\n",
        "    funca = func(a)\n",
        "    funcb = func(b)\n",
        "    if funca * funcb > 0:\n",
        "        print(\"no root !\")\n",
        "        return None\n",
        "\n",
        "    for _ in range(65):\n",
        "        c = ((a * funcb) - (b * funca)) / (funcb - funca)\n",
        "\n",
        "        if func(c) == 0:\n",
        "            return c\n",
        "        if func(a) * func(c)> 0:\n",
        "            a = c\n",
        "            funca= func(c)\n",
        "        if func(b) * func(c) > 0:\n",
        "            b = c\n",
        "            funcb = func(c)\n",
        "\n",
        "    return c\n",
        "\n",
        "\n",
        "function = lambda x: x ** 3 - 6\n",
        "\n",
        "a = 0\n",
        "b = 2\n",
        "\n",
        "x = falsePoint(function, a, b)\n",
        "print(f\"Aprx Root is  : {x} \")\n"
      ]
    }
  ]
}